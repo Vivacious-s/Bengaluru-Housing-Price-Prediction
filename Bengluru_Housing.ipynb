{
 "cells": [
  {
   "cell_type": "code",
   "execution_count": 1,
   "id": "1c5aad1d-3c04-4f9a-b49d-564fa96b3e85",
   "metadata": {},
   "outputs": [],
   "source": [
    "#importing libraries\n",
    "import pandas as pd\n",
    "import matplotlib.pyplot as plt\n",
    "import numpy as np\n",
    "import seaborn as sns\n",
    "import re"
   ]
  },
  {
   "cell_type": "code",
   "execution_count": 2,
   "id": "5661b41e-be47-4e8a-a4a3-3ebd872f4fc9",
   "metadata": {},
   "outputs": [
    {
     "name": "stdout",
     "output_type": "stream",
     "text": [
      "======House details=======\n",
      "              area_type   availability                  location       size  \\\n",
      "0  Super built-up  Area         19-Dec  Electronic City Phase II      2 BHK   \n",
      "1            Plot  Area  Ready To Move          Chikka Tirupathi  4 Bedroom   \n",
      "2        Built-up  Area  Ready To Move               Uttarahalli      3 BHK   \n",
      "3  Super built-up  Area  Ready To Move        Lingadheeranahalli      3 BHK   \n",
      "4  Super built-up  Area  Ready To Move                  Kothanur      2 BHK   \n",
      "\n",
      "   society total_sqft  bath  balcony   price  \n",
      "0  Coomee        1056   2.0      1.0   39.07  \n",
      "1  Theanmp       2600   5.0      3.0  120.00  \n",
      "2      NaN       1440   2.0      3.0   62.00  \n",
      "3  Soiewre       1521   3.0      1.0   95.00  \n",
      "4      NaN       1200   2.0      1.0   51.00  \n"
     ]
    }
   ],
   "source": [
    "#loading bengluru house dataset\n",
    "house_df=pd.read_csv(\"Bengaluru_House_Data.csv\")\n",
    "print(\"======House details=======\")\n",
    "print(house_df.head())"
   ]
  },
  {
   "cell_type": "code",
   "execution_count": 3,
   "id": "fbbb37a2-d5b8-4755-b017-b698de37edad",
   "metadata": {
    "scrolled": true
   },
   "outputs": [
    {
     "name": "stdout",
     "output_type": "stream",
     "text": [
      "Total unique locations: 1284\n",
      "[1/1284]  electronic city phase ii -> 12.8463512, 77.6690975\n",
      "[2/1284]  chikka tirupathi -> 12.8957681, 77.8671014\n",
      "[3/1284]  uttarahalli -> 12.9055682, 77.5455438\n"
     ]
    },
    {
     "ename": "KeyboardInterrupt",
     "evalue": "",
     "output_type": "error",
     "traceback": [
      "\u001b[31m---------------------------------------------------------------------------\u001b[39m",
      "\u001b[31mKeyboardInterrupt\u001b[39m                         Traceback (most recent call last)",
      "\u001b[36mCell\u001b[39m\u001b[36m \u001b[39m\u001b[32mIn[3]\u001b[39m\u001b[32m, line 41\u001b[39m\n\u001b[32m     38\u001b[39m         temp_df.to_csv(\u001b[33m\"\u001b[39m\u001b[33mlocation_checkpoint.csv\u001b[39m\u001b[33m\"\u001b[39m, index=\u001b[38;5;28;01mFalse\u001b[39;00m)\n\u001b[32m     39\u001b[39m         \u001b[38;5;28mprint\u001b[39m(\u001b[33mf\u001b[39m\u001b[33m\"\u001b[39m\u001b[33m Saved checkpoint at \u001b[39m\u001b[38;5;132;01m{\u001b[39;00mi\u001b[38;5;132;01m}\u001b[39;00m\u001b[33m locations\u001b[39m\u001b[33m\"\u001b[39m)\n\u001b[32m---> \u001b[39m\u001b[32m41\u001b[39m     \u001b[43mtime\u001b[49m\u001b[43m.\u001b[49m\u001b[43msleep\u001b[49m\u001b[43m(\u001b[49m\u001b[32;43m1\u001b[39;49m\u001b[43m)\u001b[49m  \u001b[38;5;66;03m# avoid overloading the server\u001b[39;00m\n\u001b[32m     43\u001b[39m \u001b[38;5;66;03m# Final save\u001b[39;00m\n\u001b[32m     44\u001b[39m location_df = pd.DataFrame.from_dict(location_coords, orient=\u001b[33m'\u001b[39m\u001b[33mindex\u001b[39m\u001b[33m'\u001b[39m,\n\u001b[32m     45\u001b[39m                                      columns=[\u001b[33m'\u001b[39m\u001b[33mlatitude\u001b[39m\u001b[33m'\u001b[39m,\u001b[33m'\u001b[39m\u001b[33mlongitude\u001b[39m\u001b[33m'\u001b[39m]).reset_index()\n",
      "\u001b[31mKeyboardInterrupt\u001b[39m: "
     ]
    }
   ],
   "source": [
    "from geopy.geocoders import Nominatim\n",
    "from geopy.extra.rate_limiter import RateLimiter\n",
    "import time\n",
    "# Clean location names\n",
    "house_df['location'] = house_df['location'].str.strip().str.lower()\n",
    "\n",
    "# Unique locations\n",
    "unique_locations = house_df['location'].unique()\n",
    "print(f\"Total unique locations: {len(unique_locations)}\")\n",
    "\n",
    "# Setup geocoder\n",
    "geolocator = Nominatim(user_agent=\"bengaluru_price_prediction\")\n",
    "geocode = RateLimiter(geolocator.geocode, min_delay_seconds=1)\n",
    "\n",
    "location_coords = {}\n",
    "\n",
    "for i, loc in enumerate(unique_locations, 1):\n",
    "    try:\n",
    "        query = f\"{loc}, bengaluru, india\"\n",
    "        location = geocode(query)\n",
    "\n",
    "        if location:\n",
    "            location_coords[loc] = (location.latitude, location.longitude)\n",
    "            print(f\"[{i}/{len(unique_locations)}]  {loc} -> {location.latitude}, {location.longitude}\")\n",
    "        else:\n",
    "            location_coords[loc] = (None, None)\n",
    "            print(f\"[{i}/{len(unique_locations)}] {loc} -> Not found\")\n",
    "\n",
    "    except Exception as e:\n",
    "        location_coords[loc] = (None, None)\n",
    "        print(f\"[{i}/{len(unique_locations)}]{loc} -> Error: {e}\")\n",
    "\n",
    "    # Save checkpoint every 100 requests\n",
    "    if i % 100 == 0:\n",
    "        temp_df = pd.DataFrame.from_dict(location_coords, orient='index',\n",
    "                                         columns=['latitude','longitude']).reset_index()\n",
    "        temp_df.rename(columns={'index':'location'}, inplace=True)\n",
    "        temp_df.to_csv(\"location_checkpoint.csv\", index=False)\n",
    "        print(f\" Saved checkpoint at {i} locations\")\n",
    "\n",
    "    time.sleep(1)  # avoid overloading the server\n",
    "\n",
    "# Final save\n",
    "location_df = pd.DataFrame.from_dict(location_coords, orient='index',\n",
    "                                     columns=['latitude','longitude']).reset_index()\n",
    "location_df.rename(columns={'index':'location'}, inplace=True)\n",
    "\n",
    "merged_df = house_df.merge(location_df, on='location', how='left')\n",
    "\n",
    "print(\"Missing coords after geocoding:\", merged_df['latitude'].isna().sum())\n",
    "merged_df.to_csv(\"Bengaluru_House_Data_With_Coordinates.csv\", index=False)\n",
    "print(\" Done! Saved final dataset as Bengaluru_House_Data_With_Coordinates.csv\")\n"
   ]
  },
  {
   "cell_type": "code",
   "execution_count": 2,
   "id": "b92609a5-6070-4837-bb3b-fd5bc8db250a",
   "metadata": {},
   "outputs": [],
   "source": [
    "merged_df=pd.read_csv(\"Bengaluru_House_Data_With_Coordinates.csv\")\n",
    "#handling missing values\n",
    "merged_df=merged_df.dropna(subset=['location','size','balcony','bath'])\n",
    "nan_society=merged_df[merged_df['society'].isna()].index\n",
    "half_index_len=len(nan_society)//2\n",
    "merged_df.loc[nan_society[:half_index_len], 'society'] = 'Prestige Shantiniketan'\n",
    "merged_df.loc[nan_society[half_index_len:], 'society'] = 'Sobha Dream Acres'\n",
    "merged_df=merged_df.dropna(subset=['latitude','longitude'])\n"
   ]
  },
  {
   "cell_type": "code",
   "execution_count": 3,
   "id": "4e2017a0-461f-4d25-80ab-e6a8f037cb4c",
   "metadata": {},
   "outputs": [
    {
     "name": "stdout",
     "output_type": "stream",
     "text": [
      "area_type       0\n",
      "availability    0\n",
      "location        0\n",
      "size            0\n",
      "society         0\n",
      "total_sqft      0\n",
      "bath            0\n",
      "balcony         0\n",
      "price           0\n",
      "latitude        0\n",
      "longitude       0\n",
      "dtype: int64\n"
     ]
    }
   ],
   "source": [
    "print(merged_df.isnull().sum())"
   ]
  },
  {
   "cell_type": "code",
   "execution_count": 4,
   "id": "8de10b73-0064-4722-a96f-0e35cc16aa19",
   "metadata": {},
   "outputs": [
    {
     "data": {
      "text/plain": [
       "(11363, 11)"
      ]
     },
     "execution_count": 4,
     "metadata": {},
     "output_type": "execute_result"
    }
   ],
   "source": [
    "merged_df.shape"
   ]
  },
  {
   "cell_type": "code",
   "execution_count": 5,
   "id": "2f001dc3-f78f-4c8a-989b-d95b0801eee9",
   "metadata": {},
   "outputs": [
    {
     "name": "stdout",
     "output_type": "stream",
     "text": [
      "area_type        object\n",
      "availability     object\n",
      "location         object\n",
      "size             object\n",
      "society          object\n",
      "total_sqft       object\n",
      "bath            float64\n",
      "balcony         float64\n",
      "price           float64\n",
      "latitude        float64\n",
      "longitude       float64\n",
      "dtype: object\n",
      "=====after changes====\n",
      "area_type        object\n",
      "availability     object\n",
      "location         object\n",
      "size             object\n",
      "society          object\n",
      "total_sqft      float64\n",
      "bath              int64\n",
      "balcony           int64\n",
      "price           float64\n",
      "latitude        float64\n",
      "longitude       float64\n",
      "dtype: object\n"
     ]
    }
   ],
   "source": [
    "#standarizing\n",
    "print(merged_df.dtypes)\n",
    "merged_df[['bath','balcony']]=merged_df[['bath','balcony']].astype(int)\n",
    "\n",
    "def convert_sqft(x):\n",
    "    try:\n",
    "        return float(x)\n",
    "    except:\n",
    "        if 'Sq. Meter' in x:\n",
    "            value = float(x.replace('Sq. Meter', '').strip())\n",
    "            return value * 10.7639\n",
    "        else:\n",
    "            return None  \n",
    "\n",
    "merged_df['total_sqft'] = merged_df['total_sqft'].apply(convert_sqft)\n",
    "print(f\"=====after changes====\")\n",
    "print(merged_df.dtypes)\n"
   ]
  },
  {
   "cell_type": "code",
   "execution_count": 6,
   "id": "f37d5957-abe6-4c3d-b30a-a56b2363c234",
   "metadata": {},
   "outputs": [
    {
     "data": {
      "text/plain": [
       "0        2 BHK\n",
       "1        4 BHK\n",
       "2        3 BHK\n",
       "3        3 BHK\n",
       "4        2 BHK\n",
       "         ...  \n",
       "13314    3 BHK\n",
       "13315    5 BHK\n",
       "13317    2 BHK\n",
       "13318    4 BHK\n",
       "13319    1 BHK\n",
       "Name: BHK, Length: 11363, dtype: object"
      ]
     },
     "execution_count": 6,
     "metadata": {},
     "output_type": "execute_result"
    }
   ],
   "source": [
    "merged_df.rename(columns={'size':'BHK'},inplace=True)\n",
    "merged_df['BHK'].str.replace('Bedroom','BHK')"
   ]
  },
  {
   "cell_type": "code",
   "execution_count": 7,
   "id": "8a9600e8-7dab-47d7-bc06-3ca904f824c9",
   "metadata": {},
   "outputs": [
    {
     "name": "stdout",
     "output_type": "stream",
     "text": [
      "0         3699.810606\n",
      "1         4615.384615\n",
      "2         4305.555556\n",
      "3         6245.890861\n",
      "4         4250.000000\n",
      "             ...     \n",
      "13314     6530.612245\n",
      "13315     6689.834926\n",
      "13317     5258.545136\n",
      "13318    10407.336319\n",
      "13319     3090.909091\n",
      "Name: price_per_sqft, Length: 11363, dtype: float64\n"
     ]
    }
   ],
   "source": [
    "#adding a column of price_per_sqft\n",
    "merged_df['price_per_sqft'] = (merged_df['price'] * 100000) / merged_df['total_sqft']\n",
    "print(merged_df['price_per_sqft'])"
   ]
  },
  {
   "cell_type": "code",
   "execution_count": 8,
   "id": "fc50fd98-88cc-4259-90c9-e61e12810d9d",
   "metadata": {},
   "outputs": [
    {
     "name": "stdout",
     "output_type": "stream",
     "text": [
      "Q1=4243.791399069034\n",
      "Q3=7150.085816371271\n",
      "IQR=2906.294417302237\n"
     ]
    }
   ],
   "source": [
    "#handling outliers in price_per_sqft\n",
    "Q1=merged_df['price_per_sqft'].quantile(0.25)\n",
    "Q3=merged_df['price_per_sqft'].quantile(0.75)\n",
    "IQR=Q3-Q1\n",
    "print(f\"Q1={Q1}\\nQ3={Q3}\\nIQR={IQR}\")\n"
   ]
  },
  {
   "cell_type": "code",
   "execution_count": 9,
   "id": "d7aa6105-9233-4b25-9f6b-93bc9a3b7c08",
   "metadata": {},
   "outputs": [],
   "source": [
    "lower_bound = Q1 - 1.5 * IQR\n",
    "upper_bound = Q3 + 1.5 * IQR\n",
    "\n",
    "merged_df = merged_df[(merged_df['price_per_sqft'] >= lower_bound) & \n",
    "                    (merged_df['price_per_sqft'] <= upper_bound)]"
   ]
  },
  {
   "cell_type": "code",
   "execution_count": 10,
   "id": "f8aa7a59-93ea-4bd5-beb4-68b8b7b95a8b",
   "metadata": {},
   "outputs": [
    {
     "name": "stdout",
     "output_type": "stream",
     "text": [
      "              area_type   availability                  location        BHK  \\\n",
      "0  Super built-up  Area         19-Dec  electronic city phase ii      2 BHK   \n",
      "1            Plot  Area  Ready To Move          chikka tirupathi  4 Bedroom   \n",
      "2        Built-up  Area  Ready To Move               uttarahalli      3 BHK   \n",
      "3  Super built-up  Area  Ready To Move        lingadheeranahalli      3 BHK   \n",
      "4  Super built-up  Area  Ready To Move                  kothanur      2 BHK   \n",
      "\n",
      "                  society  total_sqft  bath  balcony   price   latitude  \\\n",
      "0                 Coomee       1056.0     2        1   39.07  12.846351   \n",
      "1                 Theanmp      2600.0     5        3  120.00  12.895768   \n",
      "2  Prestige Shantiniketan      1440.0     2        3   62.00  12.905568   \n",
      "3                 Soiewre      1521.0     3        1   95.00  13.002669   \n",
      "4  Prestige Shantiniketan      1200.0     2        1   51.00  13.061360   \n",
      "\n",
      "   longitude  price_per_sqft  \n",
      "0  77.669098     3699.810606  \n",
      "1  77.867101     4615.384615  \n",
      "2  77.545544     4305.555556  \n",
      "3  77.491542     6245.890861  \n",
      "4  77.649389     4250.000000  \n"
     ]
    },
    {
     "data": {
      "text/plain": [
       "(10159, 12)"
      ]
     },
     "execution_count": 10,
     "metadata": {},
     "output_type": "execute_result"
    }
   ],
   "source": [
    "print(merged_df.head())\n",
    "merged_df.shape"
   ]
  },
  {
   "cell_type": "code",
   "execution_count": 11,
   "id": "052bdf2f-06ca-4e9f-ab1d-e19deba35195",
   "metadata": {},
   "outputs": [
    {
     "name": "stdout",
     "output_type": "stream",
     "text": [
      "Index(['area_type', 'availability', 'location', 'BHK', 'society', 'total_sqft',\n",
      "       'bath', 'balcony', 'price', 'latitude', 'longitude', 'price_per_sqft',\n",
      "       'dist_to_center_km'],\n",
      "      dtype='object')\n"
     ]
    }
   ],
   "source": [
    "#adding a column of dist_to_centre\n",
    "from geopy.distance import geodesic\n",
    "\n",
    "city_center = (12.9763, 77.6033)  # MG Road area\n",
    "\n",
    "merged_df['dist_to_center_km'] = merged_df.apply(\n",
    "    lambda row: geodesic((row['latitude'], row['longitude']), city_center).km, axis=1\n",
    ")\n",
    "print(merged_df.columns)"
   ]
  },
  {
   "cell_type": "code",
   "execution_count": 12,
   "id": "4e657310-d61f-4ce4-9065-98d15d9b8bdb",
   "metadata": {},
   "outputs": [
    {
     "name": "stdout",
     "output_type": "stream",
     "text": [
      "0        2.0\n",
      "1        4.0\n",
      "2        3.0\n",
      "3        3.0\n",
      "4        2.0\n",
      "        ... \n",
      "13314    3.0\n",
      "13315    5.0\n",
      "13317    2.0\n",
      "13318    4.0\n",
      "13319    1.0\n",
      "Name: BHK, Length: 10159, dtype: float64\n"
     ]
    }
   ],
   "source": [
    "def extract_bhk(size_str):\n",
    "    if isinstance(size_str, str):\n",
    "        match = re.search(r'\\d+', size_str) \n",
    "        if match:\n",
    "            return float(match.group())\n",
    "    return None  \n",
    "merged_df['BHK'] = merged_df['BHK'].apply(extract_bhk)\n",
    "print(merged_df['BHK'])"
   ]
  },
  {
   "cell_type": "code",
   "execution_count": 13,
   "id": "d1d01c82-dfd3-4ce7-945e-cf87a7d6015b",
   "metadata": {},
   "outputs": [],
   "source": [
    "#encoding location feature\n",
    "from sklearn.preprocessing import LabelEncoder\n",
    "le=LabelEncoder()\n",
    "merged_df['location_encoded']=le.fit_transform(merged_df['location'])"
   ]
  },
  {
   "cell_type": "code",
   "execution_count": 14,
   "id": "07e2cd02-fa54-4db0-8927-56489060f3c1",
   "metadata": {},
   "outputs": [],
   "source": [
    "#spliting the data set\n",
    "from sklearn.model_selection import train_test_split\n",
    "features=['total_sqft','BHK','bath','dist_to_center_km','price_per_sqft','location_encoded']\n",
    "X=merged_df[features]\n",
    "y=merged_df['price']\n",
    "X_train,X_test,y_train,y_test=train_test_split(X,y,test_size=0.2,random_state=42)"
   ]
  },
  {
   "cell_type": "code",
   "execution_count": 15,
   "id": "6e5ae46a-f54c-49de-9f7d-7a87f3130089",
   "metadata": {},
   "outputs": [
    {
     "name": "stdout",
     "output_type": "stream",
     "text": [
      "[LightGBM] [Info] Auto-choosing row-wise multi-threading, the overhead of testing was 0.000215 seconds.\n",
      "You can set `force_row_wise=true` to remove the overhead.\n",
      "And if memory is not enough, you can set `force_col_wise=true`.\n",
      "[LightGBM] [Info] Total Bins 1014\n",
      "[LightGBM] [Info] Number of data points in the train set: 8127, number of used features: 6\n",
      "[LightGBM] [Info] Start training from score 84.140054\n",
      "RMSE: 10.783362184581406\n",
      "R²: 0.973205771083988\n"
     ]
    }
   ],
   "source": [
    "from lightgbm import LGBMRegressor\n",
    "from sklearn.metrics import mean_squared_error, r2_score\n",
    "\n",
    "model = LGBMRegressor()\n",
    "model.fit(X_train, y_train)\n",
    "\n",
    "y_pred = model.predict(X_test)\n",
    "mse = mean_squared_error(y_test, y_pred)\n",
    "rmse = np.sqrt(mse)\n",
    "print(\"RMSE:\", rmse)\n",
    "print(\"R²:\", r2_score(y_test, y_pred))"
   ]
  },
  {
   "cell_type": "code",
   "execution_count": 16,
   "id": "0e546e33-70d2-4d17-a292-22fb55a94585",
   "metadata": {},
   "outputs": [
    {
     "data": {
      "image/png": "[encoded data removed]",
      "text/plain": [
       "<Figure size 640x480 with 1 Axes>"
      ]
     },
     "metadata": {},
     "output_type": "display_data"
    }
   ],
   "source": [
    "importance = model.feature_importances_\n",
    "plt.barh(features, importance)\n",
    "plt.xlabel(\"Feature Importance\")\n",
    "plt.show()"
   ]
  },
  {
   "cell_type": "code",
   "execution_count": 20,
   "id": "30362714-1d11-4c9a-ad24-cad8f8fc6186",
   "metadata": {},
   "outputs": [
    {
     "name": "stdout",
     "output_type": "stream",
     "text": [
      "      Actual Price  Predicted Price\n",
      "4758         29.00        29.156028\n",
      "7931         68.50        70.165154\n",
      "4023         86.00        86.946544\n",
      "2895         53.56        53.886632\n",
      "4059         70.00        70.226230\n",
      "6639         45.00        45.346549\n",
      "6657        120.00       120.921047\n",
      "320          83.09        82.029361\n",
      "4779         59.76        60.089137\n",
      "7955        125.00       128.769215\n"
     ]
    },
    {
     "data": {
      "image/png": "[encoded data removed]",
      "text/plain": [
       "<Figure size 800x600 with 1 Axes>"
      ]
     },
     "metadata": {},
     "output_type": "display_data"
    }
   ],
   "source": [
    "y_pred = model.predict(X_test)\n",
    "\n",
    "# Creating a DataFrame to compare actual vs predicted\n",
    "comparison_df = pd.DataFrame({\n",
    "    'Actual Price': y_test,\n",
    "    'Predicted Price': y_pred\n",
    "})\n",
    "\n",
    "print(comparison_df.head(10))\n",
    "\n",
    "# Scatter plot to visualize actual vs predicted\n",
    "plt.figure(figsize=(8,6))\n",
    "plt.scatter(y_test, y_pred, alpha=0.6, color='blue')\n",
    "plt.plot([y_test.min(), y_test.max()], [y_test.min(), y_test.max()], 'r--', lw=2)  \n",
    "plt.xlabel('Actual Price per sqft')\n",
    "plt.ylabel('Predicted Price per sqft')\n",
    "plt.title('Actual vs Predicted House Prices')\n",
    "plt.legend\n",
    "plt.show()\n"
   ]
  },
  {
   "cell_type": "code",
   "execution_count": 17,
   "id": "22618e81-1f04-4568-83c5-b24ee356d3a8",
   "metadata": {},
   "outputs": [],
   "source": [
    "merged_df.to_csv(\"Cleaned_Bengluru_housing_data_with_location.csv\",index=False)"
   ]
  },
  {
   "cell_type": "code",
   "execution_count": null,
   "id": "631b49be-5dc4-4f31-9c89-d2b687cf60e1",
   "metadata": {},
   "outputs": [],
   "source": []
  }
 ],
 "metadata": {
  "kernelspec": {
   "display_name": "Python 3 (ipykernel)",
   "language": "python",
   "name": "python3"
  },
  "language_info": {
   "codemirror_mode": {
    "name": "ipython",
    "version": 3
   },
   "file_extension": ".py",
   "mimetype": "text/x-python",
   "name": "python",
   "nbconvert_exporter": "python",
   "pygments_lexer": "ipython3",
   "version": "3.13.2"
  }
 },
 "nbformat": 4,
 "nbformat_minor": 5
}
